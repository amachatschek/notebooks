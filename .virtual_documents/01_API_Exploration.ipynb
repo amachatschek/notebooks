


import requests
import requests_cache
from pprint import pp
import json
import os
from dotenv import load_dotenv


requests_cache.install_cache("temp_cache", expire_after=3600)


api_url = "https://archive-api.open-meteo.com/v1/archive?latitude=51.414722&longitude=7.167222&start_date=2020-01-01&end_date=2025-01-01&daily=temperature_2m_mean&timezone=Europe%2FBerlin" #Winz-Baak, daily mean (täglicher Durchschnitt) Jan. 2020 - Jan. 2025

response = requests.get(api_url)
response_json = response.json() 
print(f"Response: {response}")
pp(response_json.keys(), indent=4, depth=2)
