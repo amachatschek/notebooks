{
 "cells": [
  {
   "cell_type": "markdown",
   "id": "32f78dc7-2808-49d8-9779-df491fb3e33e",
   "metadata": {
    "editable": true,
    "slideshow": {
     "slide_type": ""
    },
    "tags": []
   },
   "source": [
    "## **Open-Meteo API exploration - Historical Weather**\n",
    " \n",
    " ---\n",
    " \n",
    "###  **Durchschnittstemperaturen PRO MONAT**\n",
    "\n",
    "## **Für 1. Test: Jan. 2020 - Jan. 2025**\n",
    "- API Request für mean temp. - daily\n",
    "- \"explore_json()\"-ähnliche Helper-func schreiben\n",
    "- pprint für Erste API-Begutachtung?\n",
    "- Org. in list (**später** np-array)\n",
    "- Speicherung in JSON (**Caching**)\n",
    "\n",
    "#### *In der .env:* Default lat. + long., Default cache expire time, (normalerweise Key)"
   ]
  },
  {
   "cell_type": "code",
   "execution_count": 1,
   "id": "57fd81a8-5e29-4834-a860-3e9af2b4cdce",
   "metadata": {},
   "outputs": [],
   "source": [
    "import requests\n",
    "import requests_cache\n",
    "from pprint import pp\n",
    "from datetime import datetime\n",
    "import json\n",
    "import os\n",
    "from dotenv import load_dotenv"
   ]
  },
  {
   "cell_type": "code",
   "execution_count": 2,
   "id": "6b9000eb-0c0f-44b0-b47d-00568790aa91",
   "metadata": {},
   "outputs": [],
   "source": [
    "requests_cache.install_cache(\"temp_cache\", expire_after=7200)"
   ]
  },
  {
   "cell_type": "code",
   "execution_count": 3,
   "id": "4583ba5f-88ef-498e-a083-9b9388b48d52",
   "metadata": {},
   "outputs": [],
   "source": [
    "api_url = \"https://archive-api.open-meteo.com/v1/archive?latitude=51.414722&longitude=7.167222&start_date=2020-01-01&end_date=2025-01-01&daily=temperature_2m_mean&timezone=Europe%2FBerlin\" #Winz-Baak, daily mean (täglicher Durchschnitt) Jan. 2020 - Jan. 2025\n",
    "\n",
    "now = datetime.now()\n",
    "\n",
    "def fetch_response(api_url):\n",
    "    \"\"\"\n",
    "    Fetches daily 2m-temperature-mean\n",
    "    \"\"\"\n",
    "    response = requests.get(api_url)\n",
    "    response.raise_for_status()\n",
    "    return response\n",
    "\n",
    "response = fetch_response(api_url)\n",
    "response_json = response.json() "
   ]
  },
  {
   "cell_type": "code",
   "execution_count": 4,
   "id": "908d59f4",
   "metadata": {},
   "outputs": [
    {
     "name": "stdout",
     "output_type": "stream",
     "text": [
      "Response at 08/19/25, 03:09:22 : \n",
      "<CachedResponse [200]: \"created: 2025-08-19 02:26:27 Mitteleuropäische Sommerzeit, expires: 2025-08-19 04:26:27 Mitteleuropäische Sommerzeit (fresh), size: 31.67 KiB, request: GET https://archive-api.open-meteo.com/v1/archive?daily=temperature_2m_mean&end_date=2025-01-01&latitude=51.414722&longitude=7.167222&start_date=2020-01-01&timezone=Europe%2FBerlin>\n",
      "{ 'latitude': 51.42355,\n",
      "  'longitude': 7.1609406,\n",
      "  'generationtime_ms': 28.92017364501953,\n",
      "  'utc_offset_seconds': 7200,\n",
      "  'timezone': 'Europe/Berlin',\n",
      "  'timezone_abbreviation': 'GMT+2',\n",
      "  'elevation': 123.0,\n",
      "  'daily_units': {'time': 'iso8601', 'temperature_2m_mean': '°C'},\n",
      "  'daily': {'time': [...], 'temperature_2m_mean': [...]}}\n"
     ]
    }
   ],
   "source": [
    "def display_response(response_json):\n",
    "    \"\"\"\n",
    "    Displays HTTP-Response Code, time of generation and JSON body\n",
    "    \"\"\"\n",
    "    print(f\"Response at {now.strftime(\"%x, %X\")} : \\n{response}\")\n",
    "    pp(response_json, indent=2, depth=2)\n",
    "    return \n",
    "\n",
    "display_response(response_json)"
   ]
  },
  {
   "cell_type": "code",
   "execution_count": null,
   "id": "964c1190",
   "metadata": {},
   "outputs": [
    {
     "name": "stdout",
     "output_type": "stream",
     "text": [
      "(('2020-01-01', 1.4), ('2020-01-02', 1.6), ('2020-01-03', 6.7), ('2020-01-04', 4.5), ('2020-01-05', 5.3))\n"
     ]
    }
   ],
   "source": [
    "\n",
    "\n",
    "def zip_time_temp(response_json):\n",
    "    \"\"\"\n",
    "    Zips timestamps and mean temperatures into tuples\n",
    "    \"\"\"\n",
    "    time_tuple = tuple(response_json[\"daily\"][\"time\"])\n",
    "    temp_tuple = tuple(response_json[\"daily\"][\"temperature_2m_mean\"])\n",
    "    return tuple(zip(time_tuple, temp_tuple))\n",
    "\n",
    "zip_preview = zip_time_temp(response_json)[:5]\n",
    "\n",
    "print(zip_preview)"
   ]
  }
 ],
 "metadata": {
  "jupytext": {
   "formats": "ipynb,md"
  },
  "kernelspec": {
   "display_name": "WeatherPro",
   "language": "python",
   "name": "python3"
  },
  "language_info": {
   "codemirror_mode": {
    "name": "ipython",
    "version": 3
   },
   "file_extension": ".py",
   "mimetype": "text/x-python",
   "name": "python",
   "nbconvert_exporter": "python",
   "pygments_lexer": "ipython3",
   "version": "3.12.11"
  }
 },
 "nbformat": 4,
 "nbformat_minor": 5
}
